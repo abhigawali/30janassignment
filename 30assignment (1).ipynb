{
 "cells": [
  {
   "cell_type": "code",
   "execution_count": 1,
   "id": "e403fd1c-bc88-40e9-bdd5-bb7290e37993",
   "metadata": {},
   "outputs": [],
   "source": [
    "## Q1"
   ]
  },
  {
   "cell_type": "code",
   "execution_count": 13,
   "id": "95923086-3262-49c0-b687-7a23e9d4f2e5",
   "metadata": {},
   "outputs": [
    {
     "name": "stdin",
     "output_type": "stream",
     "text": [
      "enter your marks  75\n"
     ]
    },
    {
     "name": "stdout",
     "output_type": "stream",
     "text": [
      "A\n"
     ]
    }
   ],
   "source": [
    "marks = int(input(\"enter your marks \"))\n",
    "if marks <=90 :\n",
    "    print(\"A\")\n",
    "elif marks <= 90 and marks > 80 :\n",
    "    print(\"B\")\n",
    "elif marks >= 60 and marks <= 80 :\n",
    "    print(\"C\")\n",
    "else :\n",
    "    marks < 60\n",
    "    print(\"D\")"
   ]
  },
  {
   "cell_type": "code",
   "execution_count": 14,
   "id": "3980ccfd-f85f-4989-99bc-8db96c65e40d",
   "metadata": {},
   "outputs": [],
   "source": [
    "## Q2"
   ]
  },
  {
   "cell_type": "code",
   "execution_count": 18,
   "id": "8a4b29b1-43e3-45ab-81d2-a59e752471d9",
   "metadata": {},
   "outputs": [
    {
     "name": "stdin",
     "output_type": "stream",
     "text": [
      "enter you cost price  120000\n"
     ]
    },
    {
     "name": "stdout",
     "output_type": "stream",
     "text": [
      "tax = 15%\n"
     ]
    }
   ],
   "source": [
    "costprice = int(input(\"enter you cost price \" ))\n",
    "if costprice > 100000:\n",
    "    print(\"tax = 15%\")\n",
    "elif costprice >50000 and costprice <= 100000:\n",
    "    print(\"tax = 10%\")\n",
    "else :\n",
    "    costprice <=50000\n",
    "    print(\"tax = 5%\")"
   ]
  },
  {
   "cell_type": "code",
   "execution_count": 19,
   "id": "d15d3421-acec-4b45-b0c8-9e3fc0d1cac2",
   "metadata": {},
   "outputs": [],
   "source": [
    "## Q3"
   ]
  },
  {
   "cell_type": "code",
   "execution_count": 22,
   "id": "9be17e42-a9d5-4972-b92d-0c08d1daa1b1",
   "metadata": {},
   "outputs": [
    {
     "name": "stdin",
     "output_type": "stream",
     "text": [
      "enter your city  jaipur\n"
     ]
    },
    {
     "name": "stdout",
     "output_type": "stream",
     "text": [
      "jal mahal\n"
     ]
    }
   ],
   "source": [
    "city = input(\"enter your city \" )\n",
    "if city == \"delhi\" :\n",
    "    print(\"Red Fort\")\n",
    "    \n",
    "elif city == \"Agra\" :\n",
    "    print(\"Taj Mahal\")\n",
    "    \n",
    "else :\n",
    "    city == \"jaipur\" \n",
    "    print( \"jal mahal\")"
   ]
  },
  {
   "cell_type": "code",
   "execution_count": 23,
   "id": "bfc09c46-ffb1-4160-899a-031300b5e6f7",
   "metadata": {},
   "outputs": [],
   "source": [
    "## Q4"
   ]
  },
  {
   "cell_type": "code",
   "execution_count": 1,
   "id": "3703b459-09d8-485a-a26d-8168b2add281",
   "metadata": {},
   "outputs": [
    {
     "name": "stdout",
     "output_type": "stream",
     "text": [
      "i=3 | count=1\n",
      "i=6 | count=2\n",
      "i=9 | count=3\n"
     ]
    }
   ],
   "source": [
    "i=0\n",
    "count=0\n",
    "while i<=10:\n",
    "    i+=1\n",
    "    while i%3==0:\n",
    "        num=i/3\n",
    "        count+=1\n",
    "        print(f\"i={i} | count={count}\")\n",
    "        break\n"
   ]
  },
  {
   "cell_type": "code",
   "execution_count": null,
   "id": "7c67b5e4-29d9-46ad-b97d-622ceba1596e",
   "metadata": {},
   "outputs": [],
   "source": [
    "## Q5"
   ]
  },
  {
   "cell_type": "code",
   "execution_count": 3,
   "id": "6010f6b8-a1cb-497c-a41b-56ed45160233",
   "metadata": {},
   "outputs": [
    {
     "name": "stdout",
     "output_type": "stream",
     "text": [
      "0\n",
      "1\n",
      "2\n",
      "3\n",
      "4\n",
      "5\n",
      "6\n",
      "7\n",
      "8\n",
      "9\n",
      "10\n"
     ]
    }
   ],
   "source": [
    "##A while loop in Python is used to repeatedly execute a block of code as long as a given condition is true.\n",
    "##It continues to execute the code until the condition becomes false.\n",
    "\n",
    "#Here's an example of using a while loop in Python:\n",
    "# while loop with condition\n",
    "count = 0\n",
    "while count <= 10:\n",
    "    print(count)\n",
    "    count += 1\n"
   ]
  },
  {
   "cell_type": "code",
   "execution_count": null,
   "id": "9e02128b-9bb9-40f1-8df9-d5d66669dea0",
   "metadata": {},
   "outputs": [],
   "source": [
    "## Q6"
   ]
  },
  {
   "cell_type": "code",
   "execution_count": 23,
   "id": "6e73cad0-752f-4f1d-9286-b682a7c5b4b3",
   "metadata": {},
   "outputs": [
    {
     "name": "stdout",
     "output_type": "stream",
     "text": [
      "1\n",
      "22\n",
      "333\n",
      "4444\n",
      "\n",
      "\n",
      "1 1 1 1 \n",
      "2 2 2 \n",
      "3 3 \n",
      "4 \n",
      "\n",
      "\n",
      "1\n",
      "12\n",
      "123\n",
      "1234\n"
     ]
    }
   ],
   "source": [
    "\n",
    "##1\n",
    "rows = 4\n",
    "for i in range(1, rows + 1):\n",
    "    j = 1\n",
    "    while j <= i:\n",
    "        print(i, end=\"\")\n",
    "        j += 1\n",
    "    print(\"\")\n",
    "\n",
    "print(\"\\n\")\n",
    "\n",
    "\n",
    "##2\n",
    "rows = 4\n",
    "for i in range(rows, 0, -1):\n",
    "    j = 1\n",
    "    while j <= i:\n",
    "        print(rows - i + 1, end=\" \")\n",
    "        j += 1\n",
    "    print(\"\")\n",
    "\n",
    "print(\"\\n\")\n",
    "\n",
    "\n",
    "##3\n",
    "rows = 4\n",
    "for i in range(1, rows + 1):\n",
    "    j = 1\n",
    "    while j <= i:\n",
    "        print(j, end=\"\")\n",
    "        j += 1\n",
    "    print(\"\")\n"
   ]
  },
  {
   "cell_type": "code",
   "execution_count": null,
   "id": "e55bcf6f-7b0f-41a4-a064-4c553d0c5265",
   "metadata": {},
   "outputs": [],
   "source": [
    "## Q7"
   ]
  },
  {
   "cell_type": "code",
   "execution_count": 24,
   "id": "7579f778-bedd-4f24-be85-f2f304d49d19",
   "metadata": {},
   "outputs": [
    {
     "name": "stdout",
     "output_type": "stream",
     "text": [
      "10\n",
      "9\n",
      "8\n",
      "7\n",
      "6\n",
      "5\n",
      "4\n",
      "3\n",
      "2\n",
      "1\n"
     ]
    }
   ],
   "source": [
    "count = 10\n",
    "while count >= 1:\n",
    "    print(count)\n",
    "    count -= 1\n"
   ]
  },
  {
   "cell_type": "code",
   "execution_count": null,
   "id": "f28ad928-28ea-41c6-9965-9e1e8fb11414",
   "metadata": {},
   "outputs": [],
   "source": [
    "## Q8"
   ]
  },
  {
   "cell_type": "code",
   "execution_count": 26,
   "id": "2374d712-964c-43a0-9a3c-ad798dc34d04",
   "metadata": {},
   "outputs": [
    {
     "name": "stdout",
     "output_type": "stream",
     "text": [
      "10\n",
      "9\n",
      "8\n",
      "7\n",
      "6\n",
      "5\n",
      "4\n",
      "3\n",
      "2\n",
      "1\n"
     ]
    }
   ],
   "source": [
    "count = 10\n",
    "while count >= 1:\n",
    "    print(count)\n",
    "    count -= 1"
   ]
  },
  {
   "cell_type": "code",
   "execution_count": null,
   "id": "e13a95f7-db07-41b8-badc-ce82cd5855a7",
   "metadata": {},
   "outputs": [],
   "source": [
    "l = []\n",
    "for i in range(11):\n",
    "    if i%3==0:\n",
    "        l.append(i)\n",
    "        print(l)"
   ]
  },
  {
   "cell_type": "code",
   "execution_count": 2,
   "id": "79921e1f-2888-4f4e-adba-af1b9d295ce2",
   "metadata": {},
   "outputs": [
    {
     "name": "stdin",
     "output_type": "stream",
     "text": [
      "enter your number 15\n"
     ]
    },
    {
     "name": "stdout",
     "output_type": "stream",
     "text": [
      "2\n"
     ]
    }
   ],
   "source": [
    "def isDivisible(num):\n",
    "    count = 0 \n",
    "    while num >10 :\n",
    "        if num % 3 == 0: \n",
    "    return count\n",
    "n = int(input(\"enter your number\"))\n",
    "print(isDivisible(n))\n"
   ]
  },
  {
   "cell_type": "code",
   "execution_count": null,
   "id": "0e5cd535-ff5c-4ff7-ac49-0f9a19b6d110",
   "metadata": {},
   "outputs": [],
   "source": []
  },
  {
   "cell_type": "code",
   "execution_count": null,
   "id": "ee51edaf-713d-4123-9177-e447db8f89bd",
   "metadata": {},
   "outputs": [],
   "source": []
  }
 ],
 "metadata": {
  "kernelspec": {
   "display_name": "Python 3 (ipykernel)",
   "language": "python",
   "name": "python3"
  },
  "language_info": {
   "codemirror_mode": {
    "name": "ipython",
    "version": 3
   },
   "file_extension": ".py",
   "mimetype": "text/x-python",
   "name": "python",
   "nbconvert_exporter": "python",
   "pygments_lexer": "ipython3",
   "version": "3.10.8"
  }
 },
 "nbformat": 4,
 "nbformat_minor": 5
}
